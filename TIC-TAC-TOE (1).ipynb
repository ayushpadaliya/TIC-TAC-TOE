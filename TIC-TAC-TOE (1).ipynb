{
 "cells": [
  {
   "cell_type": "code",
   "execution_count": null,
   "id": "df0af260",
   "metadata": {},
   "outputs": [],
   "source": [
    "import SimpleGUICS2Pygame.simpleguics2pygame as simplegui\n",
    "import random\n",
    "\n",
    "def new_game():\n",
    "    global deck, exposed, state, cIndex1, cIndex2, nScore, nMoves\n",
    "    state, nScore, nMoves, cIndex1, cIndex2 = 0, 0, 0, -1, -1\n",
    "    deck = [x for x in range(8)]*2\n",
    "    random.shuffle(deck)\n",
    "    exposed = [False]*16\n",
    "def mouseclick(pos):\n",
    "    # add game state logic here\n",
    "    global state, nScore, cIndex1, cIndex2, nMoves\n",
    "    cardIndex = list(pos)[0]//50 \n",
    "    if not exposed[cardIndex]:\n",
    "        if state == 0: \t\t\t\t\t\t\t\t\t\t\t#just started\n",
    "            cIndex1 = cardIndex\n",
    "            exposed[cardIndex] = True\n",
    "            state = 1\n",
    "        elif state == 1: \t\t\t\t\t\t\t\t\t\t#one card flipped\n",
    "            cIndex2 = cardIndex\n",
    "            exposed[cardIndex] = True\n",
    "            if deck[cIndex1] == deck[cIndex2]:\n",
    "                nScore += 1\n",
    "            state = 2\n",
    "            nMoves += 1\n",
    "            label.set_text(\"Turns = \" + str(nMoves))\n",
    "        else: \t\t\t\t\t\t\t\t\t\t\t\t\t#two cards flipped\n",
    "            if deck[cIndex1] != deck[cIndex2]:\n",
    "                exposed[cIndex1], exposed[cIndex2] = False, False\n",
    "                cIndex1, cIndex2 = -1, -1\n",
    "            cIndex1 = cardIndex\n",
    "            exposed[cardIndex] = True\n",
    "            state = 1 \n",
    "def draw(canvas):\n",
    "    for i in range(16):\n",
    "        if exposed[i]:\n",
    "            canvas.draw_polygon([[i*50, 0], [(i+1)*50, 0], [(i+1)*50, 100], [i*50, 100]], 1, \"Black\", \"White\")\n",
    "            canvas.draw_text(str(deck[i]), (i*50+11, 69), 55, \"Black\")\n",
    "        else:\n",
    "             canvas.draw_polygon([[i*50, 0], [(i+1)*50, 0], [(i+1)*50, 100], [i*50, 100]], 1, \"Black\", \"Green\")\n",
    "    label.set_text(\"Turns = \" + str(nMoves))\n",
    "\n",
    "\n",
    "# create frame and add a button and labels\n",
    "frame = simplegui.create_frame(\"Memory\", 800, 100)\n",
    "frame.add_button(\"Reset\", new_game)\n",
    "label = frame.add_label(\"Turns = 0\")\n",
    "\n",
    "# register event handlers\n",
    "frame.set_mouseclick_handler(mouseclick)\n",
    "frame.set_draw_handler(draw)\n",
    "\n",
    "# get things rolling\n",
    "new_game()\n",
    "frame.start()"
   ]
  }
 ],
 "metadata": {
  "kernelspec": {
   "display_name": "Python 3 (ipykernel)",
   "language": "python",
   "name": "python3"
  },
  "language_info": {
   "codemirror_mode": {
    "name": "ipython",
    "version": 3
   },
   "file_extension": ".py",
   "mimetype": "text/x-python",
   "name": "python",
   "nbconvert_exporter": "python",
   "pygments_lexer": "ipython3",
   "version": "3.9.16"
  }
 },
 "nbformat": 4,
 "nbformat_minor": 5
}
